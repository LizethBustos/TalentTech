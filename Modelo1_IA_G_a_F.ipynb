{
  "nbformat": 4,
  "nbformat_minor": 0,
  "metadata": {
    "colab": {
      "provenance": [],
      "authorship_tag": "ABX9TyNOobt0UR5aM+qxksUYR9U8",
      "include_colab_link": true
    },
    "kernelspec": {
      "name": "python3",
      "display_name": "Python 3"
    },
    "language_info": {
      "name": "python"
    }
  },
  "cells": [
    {
      "cell_type": "markdown",
      "metadata": {
        "id": "view-in-github",
        "colab_type": "text"
      },
      "source": [
        "<a href=\"https://colab.research.google.com/github/LizethBustos/TalentTech/blob/main/Modelo1_IA_G_a_F.ipynb\" target=\"_parent\"><img src=\"https://colab.research.google.com/assets/colab-badge.svg\" alt=\"Open In Colab\"/></a>"
      ]
    },
    {
      "cell_type": "code",
      "execution_count": null,
      "metadata": {
        "id": "eErQGEtra4H_"
      },
      "outputs": [],
      "source": [
        "import tensorflow as tf\n",
        "import numpy as np"
      ]
    },
    {
      "cell_type": "code",
      "source": [
        "celsius = np.array([-40,-10,0,8,15,22,38], dtype=float)\n",
        "fharenheit = np.array([-40,14,32,46,59,72,100])"
      ],
      "metadata": {
        "id": "myzfM-dsbCp5"
      },
      "execution_count": null,
      "outputs": []
    },
    {
      "cell_type": "code",
      "source": [
        "capa = tf.keras.layers.Dense(units=1,input_shape=[1])\n",
        "modelo= tf.keras.Sequential([capa])"
      ],
      "metadata": {
        "id": "4OIJvYgHbXc9"
      },
      "execution_count": null,
      "outputs": []
    },
    {
      "cell_type": "code",
      "source": [
        "modelo.compile(\n",
        "    optimizer=tf.keras.optimizers.Adam(0.1), loss='mean_squared_error'\n",
        "    #tf.keras.optimizers.Adam, crea un optmizador adam, es un algoritmo de optimizacion para entrenar redes\n",
        "    #le permite a la red ajustar los pesos y sesgos de manera eficiente\n",
        "    #el modelo debe entrenarse hasta que los datos de entrada coincidan con los datos de salida\n",
        "    #a traves de pesos aleatorios,(0.1) que tanto ajustar los sesgos y los pesos\n",
        ")"
      ],
      "metadata": {
        "id": "BbdV_AbhbpON"
      },
      "execution_count": null,
      "outputs": []
    },
    {
      "cell_type": "code",
      "source": [
        "print(\"Comenzando el entrenamiento...\")\n",
        "historial=modelo.fit(celsius,fharenheit, epochs=1000,verbose=False)\n",
        "#utilizamos fit para entrenarlo\n",
        "#epochs=1000, empieza a entrenar, se le dice al programa tome los datos y dele mil vueltas, entre mas epocas tenga mas eficiente\n",
        "#verbose=False, paraq eu no muestre la basura\n",
        "\n",
        "print(\"Modelo entrenado...\")"
      ],
      "metadata": {
        "colab": {
          "base_uri": "https://localhost:8080/"
        },
        "id": "RvcE-tIAe661",
        "outputId": "db8219c5-1898-4fa6-cc0e-79693a0e7a38"
      },
      "execution_count": null,
      "outputs": [
        {
          "output_type": "stream",
          "name": "stdout",
          "text": [
            "Comenzando el entrenamiento...\n",
            "Modelo entrenado...\n"
          ]
        }
      ]
    },
    {
      "cell_type": "code",
      "source": [
        "import matplotlib.pyplot as plt\n",
        "\n",
        "plt.xlabel(\"Cantidad de vueltas\")\n",
        "plt.ylabel(\"Magnitud de perdida\")\n",
        "plt.plot(historial.history[\"loss\"])#utiliza la funcion plot para trazar la perdida del modelo a lo largo de\n",
        "                                    #las epocas de entrenamiento donde va ajustando los valores"
      ],
      "metadata": {
        "colab": {
          "base_uri": "https://localhost:8080/",
          "height": 467
        },
        "id": "doMhazRkfizh",
        "outputId": "6efc33fc-fc65-427f-c428-077f35fb2124"
      },
      "execution_count": null,
      "outputs": [
        {
          "output_type": "execute_result",
          "data": {
            "text/plain": [
              "[<matplotlib.lines.Line2D at 0x78559241b820>]"
            ]
          },
          "metadata": {},
          "execution_count": 7
        },
        {
          "output_type": "display_data",
          "data": {
            "text/plain": [
              "<Figure size 640x480 with 1 Axes>"
            ],
            "image/png": "[encoded data removed]"
          },
          "metadata": {}
        }
      ]
    },
    {
      "cell_type": "code",
      "source": [
        "#prueba\n",
        "print(\"Hagamos una prediccion\")\n",
        "resultado = modelo.predict([100.0])#que prediga para 100 grados\n",
        "print(\"El resultado es:\" + str(resultado) + \"fharenheit\")\n",
        "#se puede ir metioendo mas datos para que se vaya acercando mas\n",
        "#entre mas capasa y mas neuronas mejor funcionara\n"
      ],
      "metadata": {
        "colab": {
          "base_uri": "https://localhost:8080/"
        },
        "id": "cz-H7ue-jJYX",
        "outputId": "e06d4dc4-1558-4eff-aa4c-e9c109299955"
      },
      "execution_count": null,
      "outputs": [
        {
          "output_type": "stream",
          "name": "stdout",
          "text": [
            "Hagamos una prediccion\n",
            "1/1 [==============================] - 0s 131ms/step\n",
            "El resultado es:[[211.74742]]fharenheit\n"
          ]
        }
      ]
    },
    {
      "cell_type": "code",
      "source": [
        "print(\"Variables internas del modelo\")\n",
        "print(capa.get_weights())\n",
        "#imprime 1.79 de peso y un sesgo de 31.95"
      ],
      "metadata": {
        "colab": {
          "base_uri": "https://localhost:8080/"
        },
        "id": "P_jdY7fYjSR2",
        "outputId": "fa30afc4-2390-41ab-948d-1d43f98e1c64"
      },
      "execution_count": null,
      "outputs": [
        {
          "output_type": "stream",
          "name": "stdout",
          "text": [
            "Variables internas del modelo\n",
            "[array([[1.7979496]], dtype=float32), array([31.952475], dtype=float32)]\n"
          ]
        }
      ]
    }
  ]
}